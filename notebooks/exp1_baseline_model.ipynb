{
 "cells": [
  {
   "cell_type": "code",
   "execution_count": 1,
   "id": "22b35d24",
   "metadata": {
    "execution": {
     "iopub.execute_input": "2024-07-28T16:49:50.430659Z",
     "iopub.status.busy": "2024-07-28T16:49:50.430659Z",
     "iopub.status.idle": "2024-07-28T16:49:56.267765Z",
     "shell.execute_reply": "2024-07-28T16:49:56.267765Z"
    }
   },
   "outputs": [],
   "source": [
    "import mlflow\n",
    "import pandas as pd\n",
    "import mlflow.sklearn\n",
    "from sklearn.feature_extraction.text import CountVectorizer\n",
    "from sklearn.model_selection import train_test_split\n",
    "from sklearn.linear_model import LogisticRegression\n",
    "from sklearn.metrics import accuracy_score, precision_score, recall_score, f1_score\n",
    "import pandas as pd\n",
    "import re\n",
    "import string\n",
    "from nltk.corpus import stopwords\n",
    "from nltk.stem import WordNetLemmatizer\n",
    "import numpy as np"
   ]
  },
  {
   "cell_type": "code",
   "execution_count": 2,
   "id": "70221e42",
   "metadata": {
    "execution": {
     "iopub.execute_input": "2024-07-28T16:49:56.267765Z",
     "iopub.status.busy": "2024-07-28T16:49:56.267765Z",
     "iopub.status.idle": "2024-07-28T16:49:58.000694Z",
     "shell.execute_reply": "2024-07-28T16:49:58.000694Z"
    }
   },
   "outputs": [
    {
     "data": {
      "text/html": [
       "<div>\n",
       "<style scoped>\n",
       "    .dataframe tbody tr th:only-of-type {\n",
       "        vertical-align: middle;\n",
       "    }\n",
       "\n",
       "    .dataframe tbody tr th {\n",
       "        vertical-align: top;\n",
       "    }\n",
       "\n",
       "    .dataframe thead th {\n",
       "        text-align: right;\n",
       "    }\n",
       "</style>\n",
       "<table border=\"1\" class=\"dataframe\">\n",
       "  <thead>\n",
       "    <tr style=\"text-align: right;\">\n",
       "      <th></th>\n",
       "      <th>sentiment</th>\n",
       "      <th>content</th>\n",
       "    </tr>\n",
       "  </thead>\n",
       "  <tbody>\n",
       "    <tr>\n",
       "      <th>0</th>\n",
       "      <td>empty</td>\n",
       "      <td>@tiffanylue i know  i was listenin to bad habi...</td>\n",
       "    </tr>\n",
       "    <tr>\n",
       "      <th>1</th>\n",
       "      <td>sadness</td>\n",
       "      <td>Layin n bed with a headache  ughhhh...waitin o...</td>\n",
       "    </tr>\n",
       "    <tr>\n",
       "      <th>2</th>\n",
       "      <td>sadness</td>\n",
       "      <td>Funeral ceremony...gloomy friday...</td>\n",
       "    </tr>\n",
       "    <tr>\n",
       "      <th>3</th>\n",
       "      <td>enthusiasm</td>\n",
       "      <td>wants to hang out with friends SOON!</td>\n",
       "    </tr>\n",
       "    <tr>\n",
       "      <th>4</th>\n",
       "      <td>neutral</td>\n",
       "      <td>@dannycastillo We want to trade with someone w...</td>\n",
       "    </tr>\n",
       "  </tbody>\n",
       "</table>\n",
       "</div>"
      ],
      "text/plain": [
       "    sentiment                                            content\n",
       "0       empty  @tiffanylue i know  i was listenin to bad habi...\n",
       "1     sadness  Layin n bed with a headache  ughhhh...waitin o...\n",
       "2     sadness                Funeral ceremony...gloomy friday...\n",
       "3  enthusiasm               wants to hang out with friends SOON!\n",
       "4     neutral  @dannycastillo We want to trade with someone w..."
      ]
     },
     "execution_count": 2,
     "metadata": {},
     "output_type": "execute_result"
    }
   ],
   "source": [
    "df = pd.read_csv('https://raw.githubusercontent.com/campusx-official/jupyter-masterclass/main/tweet_emotions.csv').drop(columns=['tweet_id'])\n",
    "df.head()"
   ]
  },
  {
   "cell_type": "code",
   "execution_count": 3,
   "id": "49d107d2",
   "metadata": {
    "execution": {
     "iopub.execute_input": "2024-07-28T16:49:58.000694Z",
     "iopub.status.busy": "2024-07-28T16:49:58.000694Z",
     "iopub.status.idle": "2024-07-28T16:49:58.158463Z",
     "shell.execute_reply": "2024-07-28T16:49:58.158463Z"
    }
   },
   "outputs": [
    {
     "name": "stderr",
     "output_type": "stream",
     "text": [
      "[nltk_data] Downloading package stopwords to\n",
      "[nltk_data]     C:\\Users\\91734\\AppData\\Roaming\\nltk_data...\n",
      "[nltk_data]   Package stopwords is already up-to-date!\n",
      "[nltk_data] Downloading package wordnet to\n",
      "[nltk_data]     C:\\Users\\91734\\AppData\\Roaming\\nltk_data...\n",
      "[nltk_data]   Package wordnet is already up-to-date!\n"
     ]
    }
   ],
   "source": [
    "# data preprocessing\n",
    "import nltk\n",
    "nltk.download('stopwords')\n",
    "nltk.download('wordnet')\n",
    "\n",
    "# Define text preprocessing functions\n",
    "def lemmatization(text):\n",
    "    \"\"\"Lemmatize the text.\"\"\"\n",
    "    lemmatizer = WordNetLemmatizer()\n",
    "    text = text.split()\n",
    "    text = [lemmatizer.lemmatize(word) for word in text]\n",
    "    return \" \".join(text)\n",
    "\n",
    "def remove_stop_words(text):\n",
    "    \"\"\"Remove stop words from the text.\"\"\"\n",
    "    stop_words = set(stopwords.words(\"english\"))\n",
    "    text = [word for word in str(text).split() if word not in stop_words]\n",
    "    return \" \".join(text)\n",
    "\n",
    "def removing_numbers(text):\n",
    "    \"\"\"Remove numbers from the text.\"\"\"\n",
    "    text = ''.join([char for char in text if not char.isdigit()])\n",
    "    return text\n",
    "\n",
    "def lower_case(text):\n",
    "    \"\"\"Convert text to lower case.\"\"\"\n",
    "    text = text.split()\n",
    "    text = [word.lower() for word in text]\n",
    "    return \" \".join(text)\n",
    "\n",
    "def removing_punctuations(text):\n",
    "    \"\"\"Remove punctuations from the text.\"\"\"\n",
    "    text = re.sub('[%s]' % re.escape(string.punctuation), ' ', text)\n",
    "    text = text.replace('؛', \"\")\n",
    "    text = re.sub('\\s+', ' ', text).strip()\n",
    "    return text\n",
    "\n",
    "def removing_urls(text):\n",
    "    \"\"\"Remove URLs from the text.\"\"\"\n",
    "    url_pattern = re.compile(r'https?://\\S+|www\\.\\S+')\n",
    "    return url_pattern.sub(r'', text)\n",
    "\n",
    "def normalize_text(df):\n",
    "    \"\"\"Normalize the text data.\"\"\"\n",
    "    try:\n",
    "        df['content'] = df['content'].apply(lower_case)\n",
    "        df['content'] = df['content'].apply(remove_stop_words)\n",
    "        df['content'] = df['content'].apply(removing_numbers)\n",
    "        df['content'] = df['content'].apply(removing_punctuations)\n",
    "        df['content'] = df['content'].apply(removing_urls)\n",
    "        df['content'] = df['content'].apply(lemmatization)\n",
    "        return df\n",
    "    except Exception as e:\n",
    "        print(f'Error during text normalization: {e}')\n",
    "        raise"
   ]
  },
  {
   "cell_type": "code",
   "execution_count": 4,
   "id": "27cade22",
   "metadata": {
    "execution": {
     "iopub.execute_input": "2024-07-28T16:49:58.158463Z",
     "iopub.status.busy": "2024-07-28T16:49:58.158463Z",
     "iopub.status.idle": "2024-07-28T16:50:15.624625Z",
     "shell.execute_reply": "2024-07-28T16:50:15.624625Z"
    },
    "scrolled": false
   },
   "outputs": [
    {
     "data": {
      "text/html": [
       "<div>\n",
       "<style scoped>\n",
       "    .dataframe tbody tr th:only-of-type {\n",
       "        vertical-align: middle;\n",
       "    }\n",
       "\n",
       "    .dataframe tbody tr th {\n",
       "        vertical-align: top;\n",
       "    }\n",
       "\n",
       "    .dataframe thead th {\n",
       "        text-align: right;\n",
       "    }\n",
       "</style>\n",
       "<table border=\"1\" class=\"dataframe\">\n",
       "  <thead>\n",
       "    <tr style=\"text-align: right;\">\n",
       "      <th></th>\n",
       "      <th>sentiment</th>\n",
       "      <th>content</th>\n",
       "    </tr>\n",
       "  </thead>\n",
       "  <tbody>\n",
       "    <tr>\n",
       "      <th>0</th>\n",
       "      <td>empty</td>\n",
       "      <td>tiffanylue know listenin bad habit earlier sta...</td>\n",
       "    </tr>\n",
       "    <tr>\n",
       "      <th>1</th>\n",
       "      <td>sadness</td>\n",
       "      <td>layin n bed headache ughhhh waitin call</td>\n",
       "    </tr>\n",
       "    <tr>\n",
       "      <th>2</th>\n",
       "      <td>sadness</td>\n",
       "      <td>funeral ceremony gloomy friday</td>\n",
       "    </tr>\n",
       "    <tr>\n",
       "      <th>3</th>\n",
       "      <td>enthusiasm</td>\n",
       "      <td>want hang friend soon</td>\n",
       "    </tr>\n",
       "    <tr>\n",
       "      <th>4</th>\n",
       "      <td>neutral</td>\n",
       "      <td>dannycastillo want trade someone houston ticke...</td>\n",
       "    </tr>\n",
       "  </tbody>\n",
       "</table>\n",
       "</div>"
      ],
      "text/plain": [
       "    sentiment                                            content\n",
       "0       empty  tiffanylue know listenin bad habit earlier sta...\n",
       "1     sadness            layin n bed headache ughhhh waitin call\n",
       "2     sadness                     funeral ceremony gloomy friday\n",
       "3  enthusiasm                              want hang friend soon\n",
       "4     neutral  dannycastillo want trade someone houston ticke..."
      ]
     },
     "execution_count": 4,
     "metadata": {},
     "output_type": "execute_result"
    }
   ],
   "source": [
    "df = normalize_text(df)\n",
    "df.head()"
   ]
  },
  {
   "cell_type": "code",
   "execution_count": 5,
   "id": "97a24a12",
   "metadata": {
    "execution": {
     "iopub.execute_input": "2024-07-28T16:50:15.627684Z",
     "iopub.status.busy": "2024-07-28T16:50:15.627684Z",
     "iopub.status.idle": "2024-07-28T16:50:15.639681Z",
     "shell.execute_reply": "2024-07-28T16:50:15.639681Z"
    }
   },
   "outputs": [
    {
     "data": {
      "text/plain": [
       "neutral       8638\n",
       "worry         8459\n",
       "happiness     5209\n",
       "sadness       5165\n",
       "love          3842\n",
       "surprise      2187\n",
       "fun           1776\n",
       "relief        1526\n",
       "hate          1323\n",
       "empty          827\n",
       "enthusiasm     759\n",
       "boredom        179\n",
       "anger          110\n",
       "Name: sentiment, dtype: int64"
      ]
     },
     "execution_count": 5,
     "metadata": {},
     "output_type": "execute_result"
    }
   ],
   "source": [
    "df['sentiment'].value_counts()"
   ]
  },
  {
   "cell_type": "code",
   "execution_count": 6,
   "id": "806e28d9",
   "metadata": {
    "execution": {
     "iopub.execute_input": "2024-07-28T16:50:15.643693Z",
     "iopub.status.busy": "2024-07-28T16:50:15.643693Z",
     "iopub.status.idle": "2024-07-28T16:50:15.655187Z",
     "shell.execute_reply": "2024-07-28T16:50:15.655187Z"
    }
   },
   "outputs": [],
   "source": [
    "x = df['sentiment'].isin(['happiness','sadness'])\n",
    "df = df[x]"
   ]
  },
  {
   "cell_type": "code",
   "execution_count": 7,
   "id": "e8511575",
   "metadata": {
    "execution": {
     "iopub.execute_input": "2024-07-28T16:50:15.659699Z",
     "iopub.status.busy": "2024-07-28T16:50:15.659699Z",
     "iopub.status.idle": "2024-07-28T16:50:15.673507Z",
     "shell.execute_reply": "2024-07-28T16:50:15.673507Z"
    },
    "scrolled": true
   },
   "outputs": [
    {
     "data": {
      "text/html": [
       "<div>\n",
       "<style scoped>\n",
       "    .dataframe tbody tr th:only-of-type {\n",
       "        vertical-align: middle;\n",
       "    }\n",
       "\n",
       "    .dataframe tbody tr th {\n",
       "        vertical-align: top;\n",
       "    }\n",
       "\n",
       "    .dataframe thead th {\n",
       "        text-align: right;\n",
       "    }\n",
       "</style>\n",
       "<table border=\"1\" class=\"dataframe\">\n",
       "  <thead>\n",
       "    <tr style=\"text-align: right;\">\n",
       "      <th></th>\n",
       "      <th>sentiment</th>\n",
       "      <th>content</th>\n",
       "    </tr>\n",
       "  </thead>\n",
       "  <tbody>\n",
       "    <tr>\n",
       "      <th>1</th>\n",
       "      <td>0</td>\n",
       "      <td>layin n bed headache ughhhh waitin call</td>\n",
       "    </tr>\n",
       "    <tr>\n",
       "      <th>2</th>\n",
       "      <td>0</td>\n",
       "      <td>funeral ceremony gloomy friday</td>\n",
       "    </tr>\n",
       "    <tr>\n",
       "      <th>6</th>\n",
       "      <td>0</td>\n",
       "      <td>sleep im not thinking old friend want he s mar...</td>\n",
       "    </tr>\n",
       "    <tr>\n",
       "      <th>8</th>\n",
       "      <td>0</td>\n",
       "      <td>charviray charlene love miss</td>\n",
       "    </tr>\n",
       "    <tr>\n",
       "      <th>9</th>\n",
       "      <td>0</td>\n",
       "      <td>kelcouch i m sorry least friday</td>\n",
       "    </tr>\n",
       "  </tbody>\n",
       "</table>\n",
       "</div>"
      ],
      "text/plain": [
       "   sentiment                                            content\n",
       "1          0            layin n bed headache ughhhh waitin call\n",
       "2          0                     funeral ceremony gloomy friday\n",
       "6          0  sleep im not thinking old friend want he s mar...\n",
       "8          0                       charviray charlene love miss\n",
       "9          0                    kelcouch i m sorry least friday"
      ]
     },
     "execution_count": 7,
     "metadata": {},
     "output_type": "execute_result"
    }
   ],
   "source": [
    "df['sentiment'] = df['sentiment'].replace({'sadness':0, 'happiness':1})\n",
    "df.head()"
   ]
  },
  {
   "cell_type": "code",
   "execution_count": 8,
   "id": "f8d00774",
   "metadata": {
    "execution": {
     "iopub.execute_input": "2024-07-28T16:50:15.676134Z",
     "iopub.status.busy": "2024-07-28T16:50:15.676134Z",
     "iopub.status.idle": "2024-07-28T16:50:15.791305Z",
     "shell.execute_reply": "2024-07-28T16:50:15.791305Z"
    }
   },
   "outputs": [],
   "source": [
    "vectorizer = CountVectorizer(max_features=1000)\n",
    "X = vectorizer.fit_transform(df['content'])\n",
    "y = df['sentiment']"
   ]
  },
  {
   "cell_type": "code",
   "execution_count": 9,
   "id": "494909ea",
   "metadata": {
    "execution": {
     "iopub.execute_input": "2024-07-28T16:50:15.791305Z",
     "iopub.status.busy": "2024-07-28T16:50:15.791305Z",
     "iopub.status.idle": "2024-07-28T16:50:15.801748Z",
     "shell.execute_reply": "2024-07-28T16:50:15.801748Z"
    }
   },
   "outputs": [],
   "source": [
    "X_train, X_test, y_train, y_test = train_test_split(X, y, test_size=0.2, random_state=42)"
   ]
  },
  {
   "cell_type": "code",
   "execution_count": 10,
   "id": "32d50739",
   "metadata": {
    "execution": {
     "iopub.execute_input": "2024-07-28T16:50:15.801748Z",
     "iopub.status.busy": "2024-07-28T16:50:15.801748Z",
     "iopub.status.idle": "2024-07-28T16:50:18.975300Z",
     "shell.execute_reply": "2024-07-28T16:50:18.972749Z"
    }
   },
   "outputs": [
    {
     "data": {
      "text/html": [
       "<pre style=\"white-space:pre;overflow-x:auto;line-height:normal;font-family:Menlo,'DejaVu Sans Mono',consolas,'Courier New',monospace\">Accessing as ashishshukla888\n",
       "</pre>\n"
      ],
      "text/plain": [
       "Accessing as ashishshukla888\n"
      ]
     },
     "metadata": {},
     "output_type": "display_data"
    },
    {
     "data": {
      "text/html": [
       "<pre style=\"white-space:pre;overflow-x:auto;line-height:normal;font-family:Menlo,'DejaVu Sans Mono',consolas,'Courier New',monospace\">Initialized MLflow to track repo <span style=\"color: #008000; text-decoration-color: #008000\">\"ashishshukla888/mlops-mini-proj\"</span>\n",
       "</pre>\n"
      ],
      "text/plain": [
       "Initialized MLflow to track repo \u001b[32m\"ashishshukla888/mlops-mini-proj\"\u001b[0m\n"
      ]
     },
     "metadata": {},
     "output_type": "display_data"
    },
    {
     "data": {
      "text/html": [
       "<pre style=\"white-space:pre;overflow-x:auto;line-height:normal;font-family:Menlo,'DejaVu Sans Mono',consolas,'Courier New',monospace\">Repository ashishshukla888/mlops-mini-proj initialized!\n",
       "</pre>\n"
      ],
      "text/plain": [
       "Repository ashishshukla888/mlops-mini-proj initialized!\n"
      ]
     },
     "metadata": {},
     "output_type": "display_data"
    }
   ],
   "source": [
    "import mlflow\n",
    "import dagshub\n",
    "\n",
    "# Set the tracking URI to the DagsHub URL\n",
    "mlflow.set_tracking_uri('https://dagshub.com/ashishshukla888/mlops-mini-proj.mlflow')\n",
    "\n",
    "# Initialize DagsHub repository connection\n",
    "# Ensure the repository owner and name are correct and that the repository already exists\n",
    "repo_owner = 'ashishshukla888'\n",
    "repo_name = 'mlops-mini-proj'\n",
    "\n",
    "try:\n",
    "    dagshub.init(repo_owner=repo_owner, repo_name=repo_name, mlflow=True)\n",
    "    mlflow.set_experiment(\"Logistic Regression Baseline\")\n",
    "except RuntimeError as e:\n",
    "    print(f\"Error initializing DagsHub repository: {e}\")\n",
    "    print(\"Please check that the repository name and owner are correct, and that the repository exists.\")"
   ]
  },
  {
   "cell_type": "code",
   "execution_count": 11,
   "id": "e978e0d4",
   "metadata": {
    "execution": {
     "iopub.execute_input": "2024-07-28T16:50:18.981942Z",
     "iopub.status.busy": "2024-07-28T16:50:18.981942Z",
     "iopub.status.idle": "2024-07-28T17:59:24.403664Z",
     "shell.execute_reply": "2024-07-28T17:59:24.403664Z"
    }
   },
   "outputs": [
    {
     "name": "stderr",
     "output_type": "stream",
     "text": [
      "C:\\Users\\91734\\anaconda3\\Lib\\site-packages\\_distutils_hack\\__init__.py:33: UserWarning: Setuptools is replacing distutils.\n",
      "  warnings.warn(\"Setuptools is replacing distutils.\")\n"
     ]
    },
    {
     "name": "stdout",
     "output_type": "stream",
     "text": [
      "Accuracy: 0.7773493975903615\n",
      "Precision: 0.7681862269641125\n",
      "Recall: 0.780295566502463\n",
      "F1 Score: 0.7741935483870968\n"
     ]
    }
   ],
   "source": [
    "with mlflow.start_run():\n",
    "    \n",
    "    # Log preprocessing parameters\n",
    "    mlflow.log_param(\"vectorizer\", \"Bag of Words\")\n",
    "    mlflow.log_param(\"num_features\", 1000)\n",
    "    mlflow.log_param(\"test_size\", 0.2)\n",
    "    \n",
    "    # Model building and training\n",
    "    model = LogisticRegression()\n",
    "    model.fit(X_train, y_train)\n",
    "    \n",
    "    # Log model parameters\n",
    "    mlflow.log_param(\"model\", \"Logistic Regression\")\n",
    "    \n",
    "    # Model evaluation\n",
    "    y_pred = model.predict(X_test)\n",
    "    accuracy = accuracy_score(y_test, y_pred)\n",
    "    precision = precision_score(y_test, y_pred)\n",
    "    recall = recall_score(y_test, y_pred)\n",
    "    f1 = f1_score(y_test, y_pred)\n",
    "    \n",
    "    # Log evaluation metrics\n",
    "    mlflow.log_metric(\"accuracy\", accuracy)\n",
    "    mlflow.log_metric(\"precision\", precision)\n",
    "    mlflow.log_metric(\"recall\", recall)\n",
    "    mlflow.log_metric(\"f1_score\", f1)\n",
    "    \n",
    "    # Log model\n",
    "    mlflow.sklearn.log_model(model, \"model\")\n",
    "\n",
    "    # Save and log the notebook\n",
    "    import os\n",
    "    notebook_path = \"exp1_baseline_model.ipynb\"\n",
    "    os.system(f\"jupyter nbconvert --to notebook --execute --inplace {notebook_path}\")\n",
    "    mlflow.log_artifact(notebook_path)\n",
    "    \n",
    "    # Print the results for verification\n",
    "    print(f\"Accuracy: {accuracy}\")\n",
    "    print(f\"Precision: {precision}\")\n",
    "    print(f\"Recall: {recall}\")\n",
    "    print(f\"F1 Score: {f1}\")"
   ]
  },
  {
   "cell_type": "code",
   "execution_count": 12,
   "id": "47769276",
   "metadata": {
    "execution": {
     "iopub.execute_input": "2024-07-28T17:59:24.450541Z",
     "iopub.status.busy": "2024-07-28T17:59:24.450541Z",
     "iopub.status.idle": "2024-07-28T17:59:24.474819Z",
     "shell.execute_reply": "2024-07-28T17:59:24.474819Z"
    }
   },
   "outputs": [],
   "source": [
    "# import mlflow\n",
    "# import pandas as pd\n",
    "# import mlflow.sklearn\n",
    "# from sklearn.feature_extraction.text import CountVectorizer\n",
    "# from sklearn.model_selection import train_test_split\n",
    "# from sklearn.linear_model import LogisticRegression\n",
    "# from sklearn.metrics import accuracy_score, precision_score, recall_score, f1_score\n",
    "# import pandas as pd\n",
    "# import re\n",
    "# import string\n",
    "# import nltk\n",
    "# from nltk.corpus import stopwords\n",
    "# from nltk.stem import WordNetLemmatizer\n",
    "# import numpy as np\n",
    "\n",
    "# # Download the required NLTK resources\n",
    "# nltk.download('stopwords')\n",
    "# nltk.download('wordnet')\n",
    "\n",
    "# df = pd.read_csv('https://raw.githubusercontent.com/campusx-official/jupyter-masterclass/main/tweet_emotions.csv').drop(columns=['tweet_id'])\n",
    "# df.head()\n",
    "\n",
    "# # data preprocessing\n",
    "\n",
    "# # Define text preprocessing functions\n",
    "# def lemmatization(text):\n",
    "#     \"\"\"Lemmatize the text.\"\"\"\n",
    "#     lemmatizer = WordNetLemmatizer()\n",
    "#     text = text.split()\n",
    "#     text = [lemmatizer.lemmatize(word) for word in text]\n",
    "#     return \" \".join(text)\n",
    "\n",
    "# def remove_stop_words(text):\n",
    "#     \"\"\"Remove stop words from the text.\"\"\"\n",
    "#     stop_words = set(stopwords.words(\"english\"))\n",
    "#     text = [word for word in str(text).split() if word not in stop_words]\n",
    "#     return \" \".join(text)\n",
    "\n",
    "# def removing_numbers(text):\n",
    "#     \"\"\"Remove numbers from the text.\"\"\"\n",
    "#     text = ''.join([char for char in text if not char.isdigit()])\n",
    "#     return text\n",
    "\n",
    "# def lower_case(text):\n",
    "#     \"\"\"Convert text to lower case.\"\"\"\n",
    "#     text = text.split()\n",
    "#     text = [word.lower() for word in text]\n",
    "#     return \" \".join(text)\n",
    "\n",
    "# def removing_punctuations(text):\n",
    "#     \"\"\"Remove punctuations from the text.\"\"\"\n",
    "#     text = re.sub('[%s]' % re.escape(string.punctuation), ' ', text)\n",
    "#     text = text.replace('؛', \"\")\n",
    "#     text = re.sub('\\s+', ' ', text).strip()\n",
    "#     return text\n",
    "\n",
    "# def removing_urls(text):\n",
    "#     \"\"\"Remove URLs from the text.\"\"\"\n",
    "#     url_pattern = re.compile(r'https?://\\S+|www\\.\\S+')\n",
    "#     return url_pattern.sub(r'', text)\n",
    "\n",
    "# def normalize_text(df):\n",
    "#     \"\"\"Normalize the text data.\"\"\"\n",
    "#     try:\n",
    "#         df['content'] = df['content'].apply(lower_case)\n",
    "#         df['content'] = df['content'].apply(remove_stop_words)\n",
    "#         df['content'] = df['content'].apply(removing_numbers)\n",
    "#         df['content'] = df['content'].apply(removing_punctuations)\n",
    "#         df['content'] = df['content'].apply(removing_urls)\n",
    "#         df['content'] = df['content'].apply(lemmatization)\n",
    "#         return df\n",
    "#     except Exception as e:\n",
    "#         print(f'Error during text normalization: {e}')\n",
    "#         raise\n",
    "\n",
    "# df = normalize_text(df)\n",
    "# df.head()\n"
   ]
  },
  {
   "cell_type": "code",
   "execution_count": null,
   "id": "bbbc1b1c",
   "metadata": {},
   "outputs": [],
   "source": []
  },
  {
   "cell_type": "code",
   "execution_count": null,
   "id": "bbd626d8",
   "metadata": {},
   "outputs": [],
   "source": []
  }
 ],
 "metadata": {
  "kernelspec": {
   "display_name": "Python 3 (ipykernel)",
   "language": "python",
   "name": "python3"
  },
  "language_info": {
   "codemirror_mode": {
    "name": "ipython",
    "version": 3
   },
   "file_extension": ".py",
   "mimetype": "text/x-python",
   "name": "python",
   "nbconvert_exporter": "python",
   "pygments_lexer": "ipython3",
   "version": "3.11.4"
  }
 },
 "nbformat": 4,
 "nbformat_minor": 5
}
